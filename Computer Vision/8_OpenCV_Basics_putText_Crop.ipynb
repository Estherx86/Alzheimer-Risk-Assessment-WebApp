{
  "cells": [
    {
      "cell_type": "markdown",
      "metadata": {
        "id": "view-in-github",
        "colab_type": "text"
      },
      "source": [
        "<a href=\"https://colab.research.google.com/github/mohammadreza-mohammadi94/Alzheimer-Risk-Assessment-WebApp/blob/master/Computer%20Vision/8_OpenCV_Basics_putText_Crop.ipynb\" target=\"_parent\"><img src=\"https://colab.research.google.com/assets/colab-badge.svg\" alt=\"Open In Colab\"/></a>"
      ]
    },
    {
      "cell_type": "markdown",
      "id": "1039ecfd-8aea-4932-b079-c7b3cb5d35a6",
      "metadata": {
        "id": "1039ecfd-8aea-4932-b079-c7b3cb5d35a6"
      },
      "source": [
        "# OpenCV"
      ]
    },
    {
      "cell_type": "code",
      "execution_count": null,
      "id": "75801ba3-e578-4188-8aed-da01c4780750",
      "metadata": {
        "id": "75801ba3-e578-4188-8aed-da01c4780750"
      },
      "outputs": [],
      "source": [
        "import cv2"
      ]
    },
    {
      "cell_type": "code",
      "execution_count": null,
      "id": "532d0a10-e4b0-427f-9b2b-93e502d29554",
      "metadata": {
        "id": "532d0a10-e4b0-427f-9b2b-93e502d29554"
      },
      "outputs": [],
      "source": [
        "img = cv2.imread(\"imgs/cat.jpeg\", cv2.IMREAD_ANYCOLOR)"
      ]
    },
    {
      "cell_type": "markdown",
      "id": "0f8da9d9-a791-40a8-9915-63bec286bb87",
      "metadata": {
        "id": "0f8da9d9-a791-40a8-9915-63bec286bb87"
      },
      "source": [
        "## cv2.putText()"
      ]
    },
    {
      "cell_type": "code",
      "execution_count": null,
      "id": "11437f48-498d-46dd-b3cb-6cd288c69863",
      "metadata": {
        "id": "11437f48-498d-46dd-b3cb-6cd288c69863"
      },
      "outputs": [],
      "source": [
        "img = cv2.imread(\"imgs/cat.jpeg\", cv2.IMREAD_ANYCOLOR)\n",
        "\n",
        "# Arguments => image, text, (img location X, X), font, fontscale, color, thickness, lineType\n",
        "font = cv2.FONT_HERSHEY_COMPLEX\n",
        "img = cv2.putText(img, \"This Image\", (20, 200), font, 1, (255, 0, 0), 3)\n",
        "cv2.imshow(\"Cat\", img)\n",
        "cv2.waitKey(0)\n",
        "cv2.destroyAllWindows()"
      ]
    },
    {
      "cell_type": "markdown",
      "id": "adafbdfb-fcfe-432c-8e18-68b2f82248aa",
      "metadata": {
        "id": "adafbdfb-fcfe-432c-8e18-68b2f82248aa"
      },
      "source": [
        "The `cv2.putText()` method is used to draw text on an image or video frame. Below are the arguments it accepts, along with their purposes:\n",
        "\n",
        "---\n",
        "\n",
        "### **Syntax:**\n",
        "```python\n",
        "cv2.putText(img, text, org, fontFace, fontScale, color, thickness=None, lineType=None, bottomLeftOrigin=None)\n",
        "```\n",
        "\n",
        "---\n",
        "\n",
        "### **Arguments:**\n",
        "\n",
        "1. **`img`** *(required)*:\n",
        "   - The image (or video frame) on which the text will be drawn.\n",
        "   - Typically, this is a NumPy array representing the image.\n",
        "\n",
        "2. **`text`** *(required)*:\n",
        "   - The string of text to display.\n",
        "   - Example: `\"Hello, World!\"`.\n",
        "\n",
        "3. **`org`** *(required)*:\n",
        "   - The bottom-left corner of the text in the image.\n",
        "   - It is specified as a tuple `(x, y)` where `x` is the horizontal position and `y` is the vertical position in pixels.\n",
        "\n",
        "4. **`fontFace`** *(required)*:\n",
        "   - The font type used for the text.\n",
        "   - Predefined font styles in OpenCV:\n",
        "     - `cv2.FONT_HERSHEY_SIMPLEX`\n",
        "     - `cv2.FONT_HERSHEY_PLAIN`\n",
        "     - `cv2.FONT_HERSHEY_DUPLEX`\n",
        "     - `cv2.FONT_HERSHEY_COMPLEX`\n",
        "     - `cv2.FONT_HERSHEY_TRIPLEX`\n",
        "     - `cv2.FONT_HERSHEY_COMPLEX_SMALL`\n",
        "     - `cv2.FONT_HERSHEY_SCRIPT_SIMPLEX`\n",
        "     - `cv2.FONT_HERSHEY_SCRIPT_COMPLEX`\n",
        "   - Add `cv2.FONT_ITALIC` to apply italic styling.\n",
        "\n",
        "5. **`fontScale`** *(required)*:\n",
        "   - A scaling factor for the text size.\n",
        "   - For example:\n",
        "     - `1` for normal size,\n",
        "     - `2` for double size,\n",
        "     - `0.5` for half the size.\n",
        "\n",
        "6. **`color`** *(required)*:\n",
        "   - The color of the text in BGR format.\n",
        "   - Example: `(255, 0, 0)` for blue, `(0, 255, 0)` for green, `(0, 0, 255)` for red.\n",
        "\n",
        "7. **`thickness`** *(optional)*:\n",
        "   - Thickness of the text strokes in pixels.\n",
        "   - Default: `1`.\n",
        "   - Example:\n",
        "     - `2` for thicker text.\n",
        "\n",
        "8. **`lineType`** *(optional)*:\n",
        "   - Type of line used to draw the text.\n",
        "   - Options:\n",
        "     - `cv2.LINE_4`: 4-connected line.\n",
        "     - `cv2.LINE_8`: 8-connected line (default).\n",
        "     - `cv2.LINE_AA`: Anti-aliased line for smoother text.\n",
        "\n",
        "9. **`bottomLeftOrigin`** *(optional)*:\n",
        "   - Boolean flag indicating whether the origin is at the bottom-left or top-left of the image.\n",
        "   - Default: `False` (origin is at the top-left).\n",
        "   - If `True`, the text's vertical alignment is flipped.\n",
        "\n",
        "---\n",
        "\n",
        "### **Example Code:**\n",
        "```python\n",
        "import cv2\n",
        "import numpy as np\n",
        "\n",
        "# Create a blank image\n",
        "img = np.zeros((500, 500, 3), dtype='uint8')\n",
        "\n",
        "# Add text to the image\n",
        "cv2.putText(\n",
        "    img,\n",
        "    text=\"Hello, OpenCV!\",\n",
        "    org=(50, 250),\n",
        "    fontFace=cv2.FONT_HERSHEY_SIMPLEX,\n",
        "    fontScale=1,\n",
        "    color=(0, 255, 0),\n",
        "    thickness=2,\n",
        "    lineType=cv2.LINE_AA\n",
        ")\n",
        "\n",
        "# Display the image\n",
        "cv2.imshow(\"Image with Text\", img)\n",
        "cv2.waitKey(0)\n",
        "cv2.destroyAllWindows()\n",
        "```\n",
        "\n",
        "---\n",
        "\n",
        "### **Key Notes:**\n",
        "- Properly choose `org` to place the text in the desired location.\n",
        "- Ensure the `color` contrasts well with the background.\n",
        "- Use `lineType=cv2.LINE_AA` for smooth, visually appealing text."
      ]
    },
    {
      "cell_type": "markdown",
      "id": "01e22e34-e717-4f0e-9063-3bb595b291b4",
      "metadata": {
        "id": "01e22e34-e717-4f0e-9063-3bb595b291b4"
      },
      "source": [
        "## Crop"
      ]
    },
    {
      "cell_type": "code",
      "execution_count": null,
      "id": "d0126377-2438-41e6-a81a-7e87aa51f55b",
      "metadata": {
        "id": "d0126377-2438-41e6-a81a-7e87aa51f55b"
      },
      "outputs": [],
      "source": [
        "img = cv2.imread(\"imgs/cat.jpeg\", cv2.IMREAD_ANYCOLOR)\n",
        "\n",
        "img = img[0: 200, 0:400]\n",
        "\n",
        "cv2.imshow(\"Cat\", img)\n",
        "cv2.waitKey(0)\n",
        "cv2.destroyAllWindows()"
      ]
    },
    {
      "cell_type": "markdown",
      "id": "73e106a4-a4fd-42fa-b6b3-226561e2455f",
      "metadata": {
        "id": "73e106a4-a4fd-42fa-b6b3-226561e2455f"
      },
      "source": [
        "## cv2.resize"
      ]
    },
    {
      "cell_type": "code",
      "execution_count": null,
      "id": "9fb57728-a8ab-4ef9-9037-5ed7c29183f6",
      "metadata": {
        "id": "9fb57728-a8ab-4ef9-9037-5ed7c29183f6",
        "outputId": "011e96b3-0b4b-4699-de09-6825dff058a0"
      },
      "outputs": [
        {
          "data": {
            "text/plain": [
              "(753, 500, 3)"
            ]
          },
          "execution_count": 16,
          "metadata": {},
          "output_type": "execute_result"
        }
      ],
      "source": [
        "img.shape"
      ]
    },
    {
      "cell_type": "code",
      "execution_count": null,
      "id": "e2da2f34-487c-44bc-b7cf-dc195e5b3518",
      "metadata": {
        "id": "e2da2f34-487c-44bc-b7cf-dc195e5b3518"
      },
      "outputs": [],
      "source": [
        "img = cv2.imread(\"imgs/cat.jpeg\", cv2.IMREAD_ANYCOLOR)\n",
        "size = (img.shape[1], 250) # Define new size\n",
        "output = cv2.resize(img, size, interpolation=cv2.INTER_AREA)\n",
        "\n",
        "cv2.imshow(\"Cat\", output)\n",
        "cv2.waitKey(0)\n",
        "cv2.destroyAllWindows()"
      ]
    },
    {
      "cell_type": "code",
      "execution_count": null,
      "id": "308c77bb-cbf8-48dc-9ebd-9b9434a2855f",
      "metadata": {
        "id": "308c77bb-cbf8-48dc-9ebd-9b9434a2855f"
      },
      "outputs": [],
      "source": []
    }
  ],
  "metadata": {
    "kernelspec": {
      "display_name": "Python 3 (ipykernel)",
      "language": "python",
      "name": "python3"
    },
    "language_info": {
      "codemirror_mode": {
        "name": "ipython",
        "version": 3
      },
      "file_extension": ".py",
      "mimetype": "text/x-python",
      "name": "python",
      "nbconvert_exporter": "python",
      "pygments_lexer": "ipython3",
      "version": "3.10.7"
    },
    "colab": {
      "provenance": [],
      "include_colab_link": true
    }
  },
  "nbformat": 4,
  "nbformat_minor": 5
}